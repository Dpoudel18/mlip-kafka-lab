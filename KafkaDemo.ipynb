{
 "cells": [
  {
   "cell_type": "markdown",
   "id": "59b2d799",
   "metadata": {},
   "source": [
    "# Kafka Demo\n",
    "\n",
    "### Connect to Kafka Broker Server \n",
    "```\n",
    "ssh -L <local_port>:localhost:<remote_port> <user>@<remote_server> -NTf\n",
    "```\n",
    "Find how to connect to Kafka server on Canvas lab 2 assignment page.\n",
    "\n",
    "### To kill connection\n",
    "```\n",
    "lsof -ti:<local_port> | xargs kill -9\n",
    "```\n",
    "\n",
    "### Setup\n",
    "```\n",
    "python -m pip install kafka-python\n",
    "```"
   ]
  },
  {
   "cell_type": "code",
   "execution_count": 1,
   "id": "560fd2bb",
   "metadata": {
    "ExecuteTime": {
     "end_time": "2024-09-03T20:53:48.295316Z",
     "start_time": "2024-09-03T20:53:48.290645Z"
    }
   },
   "outputs": [],
   "source": [
    "import os\n",
    "from datetime import datetime\n",
    "from json import dumps, loads\n",
    "from time import sleep\n",
    "from random import randint\n",
    "from kafka import KafkaConsumer, KafkaProducer\n",
    "\n",
    "# Update this for your own recitation section :)\n",
    "topic = 'recitation-d' # x could be b, c, d, e, f"
   ]
  },
  {
   "cell_type": "markdown",
   "id": "0eb9dd6f",
   "metadata": {},
   "source": [
    "### Producer Mode -> Writes Data to Broker"
   ]
  },
  {
   "cell_type": "code",
   "execution_count": 2,
   "id": "aa4679a1",
   "metadata": {},
   "outputs": [
    {
     "name": "stdout",
     "output_type": "stream",
     "text": [
      "Writing to Kafka Broker\n",
      "Writing: 2025-01-23 20:43:55,Kathmandu,31ºC\n",
      "Writing: 2025-01-23 20:43:56,Kathmandu,26ºC\n",
      "Writing: 2025-01-23 20:43:57,Kathmandu,31ºC\n",
      "Writing: 2025-01-23 20:43:58,San Francisco,18ºC\n",
      "Writing: 2025-01-23 20:43:59,Kathmandu,29ºC\n",
      "Writing: 2025-01-23 20:44:00,New York,20ºC\n",
      "Writing: 2025-01-23 20:44:01,San Francisco,27ºC\n",
      "Writing: 2025-01-23 20:44:02,San Francisco,19ºC\n",
      "Writing: 2025-01-23 20:44:03,San Francisco,20ºC\n",
      "Writing: 2025-01-23 20:44:04,New York,29ºC\n"
     ]
    }
   ],
   "source": [
    "# Create a producer to write data to kafka\n",
    "# Ref: https://kafka-python.readthedocs.io/en/master/apidoc/KafkaProducer.html\n",
    "\n",
    "# [TODO]: Replace '...' with the address of your Kafka bootstrap server\n",
    "producer = KafkaProducer(bootstrap_servers=[\"localhost:9092\"],\n",
    "                        value_serializer=lambda x: dumps(x).encode('utf-8'))\n",
    "\n",
    "# [TODO]: Add cities of your choice\n",
    "cities = [\"San Francisco\", \"New York\", \"Kathmandu\"]\n",
    "\n",
    "# Write data via the producer\n",
    "print(\"Writing to Kafka Broker\")\n",
    "for i in range(10):\n",
    "    data = f'{datetime.now().strftime(\"%Y-%m-%d %H:%M:%S\")},{cities[randint(0,len(cities)-1)]},{randint(18, 32)}ºC'\n",
    "    print(f\"Writing: {data}\")\n",
    "    producer.send(topic=topic, value=data)\n",
    "    sleep(1)"
   ]
  },
  {
   "cell_type": "markdown",
   "id": "a45bbace",
   "metadata": {},
   "source": [
    "### Consumer Mode -> Reads Data from Broker"
   ]
  },
  {
   "cell_type": "code",
   "execution_count": 3,
   "id": "a5e2f59f",
   "metadata": {},
   "outputs": [
    {
     "name": "stdout",
     "output_type": "stream",
     "text": [
      "Reading Kafka Broker\n",
      "2025-01-23 15:15:31,Denver,23ºC\n",
      "2025-01-23 15:15:32,Denver,27ºC\n",
      "2025-01-23 15:15:33,San Francisco,22ºC\n",
      "2025-01-23 15:15:34,Denver,23ºC\n",
      "2025-01-23 15:15:35,San Francisco,28ºC\n",
      "2025-01-23 15:15:36,Denver,29ºC\n",
      "2025-01-23 15:15:37,San Francisco,26ºC\n",
      "2025-01-23 15:15:38,Denver,23ºC\n",
      "2025-01-23 15:15:39,San Francisco,18ºC\n",
      "2025-01-23 15:15:40,San Francisco,25ºC\n",
      "2025-01-23 15:32:11,Los Angeles,29ºC\n",
      "2025-01-23 15:32:12,Los Angeles,24ºC\n",
      "2025-01-23 15:32:13,Denver,22ºC\n",
      "2025-01-23 15:32:14,Denver,26ºC\n",
      "2025-01-23 15:32:15,Denver,19ºC\n",
      "2025-01-23 15:32:16,Denver,27ºC\n",
      "2025-01-23 15:32:17,Los Angeles,22ºC\n",
      "2025-01-23 15:32:18,Denver,28ºC\n",
      "2025-01-23 15:32:19,Denver,24ºC\n",
      "2025-01-23 15:32:20,Denver,24ºC\n",
      "2025-01-23 15:36:45,Los Angeles,31ºC\n",
      "2025-01-23 15:36:47,Denver,28ºC\n",
      "2025-01-23 15:36:48,Denver,23ºC\n",
      "2025-01-23 15:36:49,Los Angeles,24ºC\n",
      "2025-01-23 15:36:50,Denver,23ºC\n",
      "2025-01-23 15:36:51,Denver,31ºC\n",
      "2025-01-23 15:36:52,Los Angeles,22ºC\n",
      "2025-01-23 15:36:53,Los Angeles,32ºC\n",
      "2025-01-23 15:36:54,Los Angeles,28ºC\n",
      "2025-01-23 15:36:55,Los Angeles,30ºC\n",
      "2025-01-23 19:52:39,New York,24ºC\n",
      "2025-01-23 19:52:40,New York,31ºC\n",
      "2025-01-23 19:52:41,San Francisco,32ºC\n",
      "2025-01-23 19:52:42,San Francisco,23ºC\n",
      "2025-01-23 19:52:43,New York,31ºC\n",
      "2025-01-23 19:52:44,New York,32ºC\n",
      "2025-01-23 19:52:45,New York,22ºC\n",
      "2025-01-23 19:52:46,San Francisco,26ºC\n",
      "2025-01-23 19:52:47,San Francisco,29ºC\n",
      "2025-01-23 19:52:48,San Francisco,22ºC\n",
      "2025-01-23 19:56:23,San Francisco,19ºC\n",
      "2025-01-23 19:56:24,New York,23ºC\n",
      "2025-01-23 19:56:25,San Francisco,27ºC\n",
      "2025-01-23 19:56:26,San Francisco,23ºC\n",
      "2025-01-23 19:56:27,New York,28ºC\n",
      "2025-01-23 19:56:28,New York,28ºC\n",
      "2025-01-23 19:56:29,New York,32ºC\n",
      "2025-01-23 19:56:30,San Francisco,19ºC\n",
      "2025-01-23 19:56:31,New York,27ºC\n",
      "2025-01-23 19:56:32,New York,18ºC\n",
      "2025-01-23 20:00:10,San Francisco,32ºC\n",
      "2025-01-23 20:00:11,New York,25ºC\n",
      "2025-01-23 20:00:12,Kathmandu,31ºC\n",
      "2025-01-23 20:00:13,New York,32ºC\n",
      "2025-01-23 20:00:14,Kathmandu,29ºC\n",
      "2025-01-23 20:00:15,Kathmandu,29ºC\n",
      "2025-01-23 20:00:16,San Francisco,19ºC\n",
      "2025-01-23 20:00:17,New York,26ºC\n",
      "2025-01-23 20:00:18,New York,23ºC\n",
      "2025-01-23 20:00:19,New York,19ºC\n",
      "2025-01-23 20:17:51,Houston,18ºC\n",
      "2025-01-23 20:17:52,Houston,27ºC\n",
      "2025-01-23 20:17:53,Houston,19ºC\n",
      "2025-01-23 20:17:54,Houston,22ºC\n",
      "2025-01-23 20:17:55,New York,19ºC\n",
      "2025-01-23 20:17:56,Los Angeles,21ºC\n",
      "2025-01-23 20:17:57,New York,23ºC\n",
      "2025-01-23 20:17:58,New York,31ºC\n",
      "2025-01-23 20:17:59,Los Angeles,26ºC\n",
      "2025-01-23 20:18:00,Houston,22ºC\n",
      "2025-01-23 20:20:14,New York,22ºC\n",
      "2025-01-23 20:20:15,San Francisco,30ºC\n",
      "2025-01-23 20:20:16,Kathmandu,24ºC\n",
      "2025-01-23 20:20:17,Kathmandu,21ºC\n",
      "2025-01-23 20:20:18,New York,31ºC\n",
      "2025-01-23 20:20:19,New York,24ºC\n",
      "2025-01-23 20:20:20,San Francisco,32ºC\n",
      "2025-01-23 20:20:21,Kathmandu,23ºC\n",
      "2025-01-23 20:20:22,San Francisco,20ºC\n",
      "2025-01-23 20:20:23,Kathmandu,26ºC\n",
      "2025-01-23 20:41:35,New York,27ºC\n",
      "2025-01-23 20:41:36,Kathmandu,27ºC\n",
      "2025-01-23 20:41:37,San Francisco,32ºC\n",
      "2025-01-23 20:41:38,San Francisco,29ºC\n",
      "2025-01-23 20:41:39,San Francisco,19ºC\n",
      "2025-01-23 20:41:40,Kathmandu,25ºC\n",
      "2025-01-23 20:41:41,Kathmandu,31ºC\n",
      "2025-01-23 20:41:42,New York,31ºC\n",
      "2025-01-23 20:41:43,San Francisco,25ºC\n",
      "2025-01-23 20:41:44,San Francisco,28ºC\n",
      "2025-01-23 20:43:55,Kathmandu,31ºC\n",
      "2025-01-23 20:43:56,Kathmandu,26ºC\n",
      "2025-01-23 20:43:57,Kathmandu,31ºC\n",
      "2025-01-23 20:43:58,San Francisco,18ºC\n",
      "2025-01-23 20:43:59,Kathmandu,29ºC\n",
      "2025-01-23 20:44:00,New York,20ºC\n",
      "2025-01-23 20:44:01,San Francisco,27ºC\n",
      "2025-01-23 20:44:02,San Francisco,19ºC\n",
      "2025-01-23 20:44:03,San Francisco,20ºC\n",
      "2025-01-23 20:44:04,New York,29ºC\n"
     ]
    },
    {
     "ename": "KeyboardInterrupt",
     "evalue": "",
     "output_type": "error",
     "traceback": [
      "\u001b[0;31m---------------------------------------------------------------------------\u001b[0m",
      "\u001b[0;31mKeyboardInterrupt\u001b[0m                         Traceback (most recent call last)",
      "Cell \u001b[0;32mIn[3], line 16\u001b[0m\n\u001b[1;32m      5\u001b[0m consumer \u001b[38;5;241m=\u001b[39m KafkaConsumer(\n\u001b[1;32m      6\u001b[0m     topic, \u001b[38;5;66;03m# Topic name\u001b[39;00m\n\u001b[1;32m      7\u001b[0m     bootstrap_servers\u001b[38;5;241m=\u001b[39m[\u001b[38;5;124m'\u001b[39m\u001b[38;5;124mlocalhost:9092\u001b[39m\u001b[38;5;124m'\u001b[39m],\n\u001b[0;32m   (...)\u001b[0m\n\u001b[1;32m     12\u001b[0m     auto_commit_interval_ms\u001b[38;5;241m=\u001b[39m\u001b[38;5;241m1000\u001b[39m\n\u001b[1;32m     13\u001b[0m )\n\u001b[1;32m     15\u001b[0m \u001b[38;5;28mprint\u001b[39m(\u001b[38;5;124m'\u001b[39m\u001b[38;5;124mReading Kafka Broker\u001b[39m\u001b[38;5;124m'\u001b[39m)\n\u001b[0;32m---> 16\u001b[0m \u001b[38;5;28;43;01mfor\u001b[39;49;00m\u001b[43m \u001b[49m\u001b[43mmessage\u001b[49m\u001b[43m \u001b[49m\u001b[38;5;129;43;01min\u001b[39;49;00m\u001b[43m \u001b[49m\u001b[43mconsumer\u001b[49m\u001b[43m:\u001b[49m\n\u001b[1;32m     17\u001b[0m \u001b[43m    \u001b[49m\u001b[43mmessage\u001b[49m\u001b[43m \u001b[49m\u001b[38;5;241;43m=\u001b[39;49m\u001b[43m \u001b[49m\u001b[43mmessage\u001b[49m\u001b[38;5;241;43m.\u001b[39;49m\u001b[43mvalue\u001b[49m\u001b[38;5;241;43m.\u001b[39;49m\u001b[43mdecode\u001b[49m\u001b[43m(\u001b[49m\u001b[43m)\u001b[49m\n\u001b[1;32m     18\u001b[0m \u001b[43m    \u001b[49m\u001b[38;5;66;43;03m# Default message.value type is bytes!\u001b[39;49;00m\n",
      "File \u001b[0;32m/Library/Frameworks/Python.framework/Versions/3.12/lib/python3.12/site-packages/kafka/consumer/group.py:1203\u001b[0m, in \u001b[0;36mKafkaConsumer.__next__\u001b[0;34m(self)\u001b[0m\n\u001b[1;32m   1201\u001b[0m     \u001b[38;5;28;01mreturn\u001b[39;00m \u001b[38;5;28mself\u001b[39m\u001b[38;5;241m.\u001b[39mnext_v1()\n\u001b[1;32m   1202\u001b[0m \u001b[38;5;28;01melse\u001b[39;00m:\n\u001b[0;32m-> 1203\u001b[0m     \u001b[38;5;28;01mreturn\u001b[39;00m \u001b[38;5;28;43mself\u001b[39;49m\u001b[38;5;241;43m.\u001b[39;49m\u001b[43mnext_v2\u001b[49m\u001b[43m(\u001b[49m\u001b[43m)\u001b[49m\n",
      "File \u001b[0;32m/Library/Frameworks/Python.framework/Versions/3.12/lib/python3.12/site-packages/kafka/consumer/group.py:1211\u001b[0m, in \u001b[0;36mKafkaConsumer.next_v2\u001b[0;34m(self)\u001b[0m\n\u001b[1;32m   1209\u001b[0m     \u001b[38;5;28mself\u001b[39m\u001b[38;5;241m.\u001b[39m_iterator \u001b[38;5;241m=\u001b[39m \u001b[38;5;28mself\u001b[39m\u001b[38;5;241m.\u001b[39m_message_generator_v2()\n\u001b[1;32m   1210\u001b[0m \u001b[38;5;28;01mtry\u001b[39;00m:\n\u001b[0;32m-> 1211\u001b[0m     \u001b[38;5;28;01mreturn\u001b[39;00m \u001b[38;5;28;43mnext\u001b[39;49m\u001b[43m(\u001b[49m\u001b[38;5;28;43mself\u001b[39;49m\u001b[38;5;241;43m.\u001b[39;49m\u001b[43m_iterator\u001b[49m\u001b[43m)\u001b[49m\n\u001b[1;32m   1212\u001b[0m \u001b[38;5;28;01mexcept\u001b[39;00m \u001b[38;5;167;01mStopIteration\u001b[39;00m:\n\u001b[1;32m   1213\u001b[0m     \u001b[38;5;28mself\u001b[39m\u001b[38;5;241m.\u001b[39m_iterator \u001b[38;5;241m=\u001b[39m \u001b[38;5;28;01mNone\u001b[39;00m\n",
      "File \u001b[0;32m/Library/Frameworks/Python.framework/Versions/3.12/lib/python3.12/site-packages/kafka/consumer/group.py:1126\u001b[0m, in \u001b[0;36mKafkaConsumer._message_generator_v2\u001b[0;34m(self)\u001b[0m\n\u001b[1;32m   1124\u001b[0m \u001b[38;5;28;01mdef\u001b[39;00m \u001b[38;5;21m_message_generator_v2\u001b[39m(\u001b[38;5;28mself\u001b[39m):\n\u001b[1;32m   1125\u001b[0m     timeout_ms \u001b[38;5;241m=\u001b[39m \u001b[38;5;241m1000\u001b[39m \u001b[38;5;241m*\u001b[39m (\u001b[38;5;28mself\u001b[39m\u001b[38;5;241m.\u001b[39m_consumer_timeout \u001b[38;5;241m-\u001b[39m time\u001b[38;5;241m.\u001b[39mtime())\n\u001b[0;32m-> 1126\u001b[0m     record_map \u001b[38;5;241m=\u001b[39m \u001b[38;5;28;43mself\u001b[39;49m\u001b[38;5;241;43m.\u001b[39;49m\u001b[43mpoll\u001b[49m\u001b[43m(\u001b[49m\u001b[43mtimeout_ms\u001b[49m\u001b[38;5;241;43m=\u001b[39;49m\u001b[43mtimeout_ms\u001b[49m\u001b[43m,\u001b[49m\u001b[43m \u001b[49m\u001b[43mupdate_offsets\u001b[49m\u001b[38;5;241;43m=\u001b[39;49m\u001b[38;5;28;43;01mFalse\u001b[39;49;00m\u001b[43m)\u001b[49m\n\u001b[1;32m   1127\u001b[0m     \u001b[38;5;28;01mfor\u001b[39;00m tp, records \u001b[38;5;129;01min\u001b[39;00m record_map\u001b[38;5;241m.\u001b[39mitems():\n\u001b[1;32m   1128\u001b[0m         \u001b[38;5;66;03m# Generators are stateful, and it is possible that the tp / records\u001b[39;00m\n\u001b[1;32m   1129\u001b[0m         \u001b[38;5;66;03m# here may become stale during iteration -- i.e., we seek to a\u001b[39;00m\n\u001b[1;32m   1130\u001b[0m         \u001b[38;5;66;03m# different offset, pause consumption, or lose assignment.\u001b[39;00m\n\u001b[1;32m   1131\u001b[0m         \u001b[38;5;28;01mfor\u001b[39;00m record \u001b[38;5;129;01min\u001b[39;00m records:\n\u001b[1;32m   1132\u001b[0m             \u001b[38;5;66;03m# is_fetchable(tp) should handle assignment changes and offset\u001b[39;00m\n\u001b[1;32m   1133\u001b[0m             \u001b[38;5;66;03m# resets; for all other changes (e.g., seeks) we'll rely on the\u001b[39;00m\n\u001b[1;32m   1134\u001b[0m             \u001b[38;5;66;03m# outer function destroying the existing iterator/generator\u001b[39;00m\n\u001b[1;32m   1135\u001b[0m             \u001b[38;5;66;03m# via self._iterator = None\u001b[39;00m\n",
      "File \u001b[0;32m/Library/Frameworks/Python.framework/Versions/3.12/lib/python3.12/site-packages/kafka/consumer/group.py:663\u001b[0m, in \u001b[0;36mKafkaConsumer.poll\u001b[0;34m(self, timeout_ms, max_records, update_offsets)\u001b[0m\n\u001b[1;32m    661\u001b[0m remaining \u001b[38;5;241m=\u001b[39m timeout_ms\n\u001b[1;32m    662\u001b[0m \u001b[38;5;28;01mwhile\u001b[39;00m \u001b[38;5;129;01mnot\u001b[39;00m \u001b[38;5;28mself\u001b[39m\u001b[38;5;241m.\u001b[39m_closed:\n\u001b[0;32m--> 663\u001b[0m     records \u001b[38;5;241m=\u001b[39m \u001b[38;5;28;43mself\u001b[39;49m\u001b[38;5;241;43m.\u001b[39;49m\u001b[43m_poll_once\u001b[49m\u001b[43m(\u001b[49m\u001b[43mremaining\u001b[49m\u001b[43m,\u001b[49m\u001b[43m \u001b[49m\u001b[43mmax_records\u001b[49m\u001b[43m,\u001b[49m\u001b[43m \u001b[49m\u001b[43mupdate_offsets\u001b[49m\u001b[38;5;241;43m=\u001b[39;49m\u001b[43mupdate_offsets\u001b[49m\u001b[43m)\u001b[49m\n\u001b[1;32m    664\u001b[0m     \u001b[38;5;28;01mif\u001b[39;00m records:\n\u001b[1;32m    665\u001b[0m         \u001b[38;5;28;01mreturn\u001b[39;00m records\n",
      "File \u001b[0;32m/Library/Frameworks/Python.framework/Versions/3.12/lib/python3.12/site-packages/kafka/consumer/group.py:712\u001b[0m, in \u001b[0;36mKafkaConsumer._poll_once\u001b[0;34m(self, timeout_ms, max_records, update_offsets)\u001b[0m\n\u001b[1;32m    709\u001b[0m     \u001b[38;5;28mself\u001b[39m\u001b[38;5;241m.\u001b[39m_client\u001b[38;5;241m.\u001b[39mpoll(timeout_ms\u001b[38;5;241m=\u001b[39m\u001b[38;5;241m0\u001b[39m)\n\u001b[1;32m    711\u001b[0m timeout_ms \u001b[38;5;241m=\u001b[39m \u001b[38;5;28mmin\u001b[39m(timeout_ms, \u001b[38;5;28mself\u001b[39m\u001b[38;5;241m.\u001b[39m_coordinator\u001b[38;5;241m.\u001b[39mtime_to_next_poll() \u001b[38;5;241m*\u001b[39m \u001b[38;5;241m1000\u001b[39m)\n\u001b[0;32m--> 712\u001b[0m \u001b[38;5;28;43mself\u001b[39;49m\u001b[38;5;241;43m.\u001b[39;49m\u001b[43m_client\u001b[49m\u001b[38;5;241;43m.\u001b[39;49m\u001b[43mpoll\u001b[49m\u001b[43m(\u001b[49m\u001b[43mtimeout_ms\u001b[49m\u001b[38;5;241;43m=\u001b[39;49m\u001b[43mtimeout_ms\u001b[49m\u001b[43m)\u001b[49m\n\u001b[1;32m    713\u001b[0m \u001b[38;5;66;03m# after the long poll, we should check whether the group needs to rebalance\u001b[39;00m\n\u001b[1;32m    714\u001b[0m \u001b[38;5;66;03m# prior to returning data so that the group can stabilize faster\u001b[39;00m\n\u001b[1;32m    715\u001b[0m \u001b[38;5;28;01mif\u001b[39;00m \u001b[38;5;28mself\u001b[39m\u001b[38;5;241m.\u001b[39m_coordinator\u001b[38;5;241m.\u001b[39mneed_rejoin():\n",
      "File \u001b[0;32m/Library/Frameworks/Python.framework/Versions/3.12/lib/python3.12/site-packages/kafka/client_async.py:601\u001b[0m, in \u001b[0;36mKafkaClient.poll\u001b[0;34m(self, timeout_ms, future)\u001b[0m\n\u001b[1;32m    598\u001b[0m             timeout \u001b[38;5;241m=\u001b[39m \u001b[38;5;28mmin\u001b[39m(timeout, \u001b[38;5;28mself\u001b[39m\u001b[38;5;241m.\u001b[39mconfig[\u001b[38;5;124m'\u001b[39m\u001b[38;5;124mretry_backoff_ms\u001b[39m\u001b[38;5;124m'\u001b[39m])\n\u001b[1;32m    599\u001b[0m         timeout \u001b[38;5;241m=\u001b[39m \u001b[38;5;28mmax\u001b[39m(\u001b[38;5;241m0\u001b[39m, timeout)  \u001b[38;5;66;03m# avoid negative timeouts\u001b[39;00m\n\u001b[0;32m--> 601\u001b[0m     \u001b[38;5;28;43mself\u001b[39;49m\u001b[38;5;241;43m.\u001b[39;49m\u001b[43m_poll\u001b[49m\u001b[43m(\u001b[49m\u001b[43mtimeout\u001b[49m\u001b[43m \u001b[49m\u001b[38;5;241;43m/\u001b[39;49m\u001b[43m \u001b[49m\u001b[38;5;241;43m1000\u001b[39;49m\u001b[43m)\u001b[49m\n\u001b[1;32m    603\u001b[0m \u001b[38;5;66;03m# called without the lock to avoid deadlock potential\u001b[39;00m\n\u001b[1;32m    604\u001b[0m \u001b[38;5;66;03m# if handlers need to acquire locks\u001b[39;00m\n\u001b[1;32m    605\u001b[0m responses\u001b[38;5;241m.\u001b[39mextend(\u001b[38;5;28mself\u001b[39m\u001b[38;5;241m.\u001b[39m_fire_pending_completed_requests())\n",
      "File \u001b[0;32m/Library/Frameworks/Python.framework/Versions/3.12/lib/python3.12/site-packages/kafka/client_async.py:633\u001b[0m, in \u001b[0;36mKafkaClient._poll\u001b[0;34m(self, timeout)\u001b[0m\n\u001b[1;32m    630\u001b[0m \u001b[38;5;28mself\u001b[39m\u001b[38;5;241m.\u001b[39m_register_send_sockets()\n\u001b[1;32m    632\u001b[0m start_select \u001b[38;5;241m=\u001b[39m time\u001b[38;5;241m.\u001b[39mtime()\n\u001b[0;32m--> 633\u001b[0m ready \u001b[38;5;241m=\u001b[39m \u001b[38;5;28;43mself\u001b[39;49m\u001b[38;5;241;43m.\u001b[39;49m\u001b[43m_selector\u001b[49m\u001b[38;5;241;43m.\u001b[39;49m\u001b[43mselect\u001b[49m\u001b[43m(\u001b[49m\u001b[43mtimeout\u001b[49m\u001b[43m)\u001b[49m\n\u001b[1;32m    634\u001b[0m end_select \u001b[38;5;241m=\u001b[39m time\u001b[38;5;241m.\u001b[39mtime()\n\u001b[1;32m    635\u001b[0m \u001b[38;5;28;01mif\u001b[39;00m \u001b[38;5;28mself\u001b[39m\u001b[38;5;241m.\u001b[39m_sensors:\n",
      "File \u001b[0;32m/Library/Frameworks/Python.framework/Versions/3.12/lib/python3.12/selectors.py:566\u001b[0m, in \u001b[0;36mKqueueSelector.select\u001b[0;34m(self, timeout)\u001b[0m\n\u001b[1;32m    564\u001b[0m ready \u001b[38;5;241m=\u001b[39m []\n\u001b[1;32m    565\u001b[0m \u001b[38;5;28;01mtry\u001b[39;00m:\n\u001b[0;32m--> 566\u001b[0m     kev_list \u001b[38;5;241m=\u001b[39m \u001b[38;5;28;43mself\u001b[39;49m\u001b[38;5;241;43m.\u001b[39;49m\u001b[43m_selector\u001b[49m\u001b[38;5;241;43m.\u001b[39;49m\u001b[43mcontrol\u001b[49m\u001b[43m(\u001b[49m\u001b[38;5;28;43;01mNone\u001b[39;49;00m\u001b[43m,\u001b[49m\u001b[43m \u001b[49m\u001b[43mmax_ev\u001b[49m\u001b[43m,\u001b[49m\u001b[43m \u001b[49m\u001b[43mtimeout\u001b[49m\u001b[43m)\u001b[49m\n\u001b[1;32m    567\u001b[0m \u001b[38;5;28;01mexcept\u001b[39;00m \u001b[38;5;167;01mInterruptedError\u001b[39;00m:\n\u001b[1;32m    568\u001b[0m     \u001b[38;5;28;01mreturn\u001b[39;00m ready\n",
      "\u001b[0;31mKeyboardInterrupt\u001b[0m: "
     ]
    }
   ],
   "source": [
    "# Create a consumer to read data from kafka\n",
    "# Ref: https://kafka-python.readthedocs.io/en/master/apidoc/KafkaConsumer.html\n",
    "\n",
    "# Complete the missing ... parameters/arguments using the Kafka documentation\n",
    "consumer = KafkaConsumer(\n",
    "    topic, # Topic name\n",
    "    bootstrap_servers=['localhost:9092'],\n",
    "    auto_offset_reset=\"earliest\", # Experiment with different values\n",
    "    # Commit that an offset has been read\n",
    "    enable_auto_commit=True,\n",
    "    # How often to tell Kafka, an offset has been read\n",
    "    auto_commit_interval_ms=1000\n",
    ")\n",
    "\n",
    "print('Reading Kafka Broker')\n",
    "for message in consumer:\n",
    "    message = message.value.decode()\n",
    "    # Default message.value type is bytes!\n",
    "    print(loads(message))\n",
    "    os.system(f\"echo {message} >> kafka_log.csv\")"
   ]
  },
  {
   "cell_type": "markdown",
   "id": "38927152",
   "metadata": {},
   "source": [
    "# Use kcat!\n",
    "It's a CLI (Command Line Interface). Previously known as kafkacat\n",
    "\n",
    "\n",
    "Ref: https://docs.confluent.io/platform/current/app-development/kafkacat-usage.html"
   ]
  },
  {
   "cell_type": "code",
   "execution_count": 4,
   "id": "e19b63da",
   "metadata": {},
   "outputs": [],
   "source": [
    "#kcat command: connect to local Kafka broker, specify a topic, and consume messages from the earliest offset\n",
    "# kcat -b localhost:9092 -t 'recitation-d' -C -o beginning"
   ]
  }
 ],
 "metadata": {
  "kernelspec": {
   "display_name": "Python 3",
   "language": "python",
   "name": "python3"
  },
  "language_info": {
   "codemirror_mode": {
    "name": "ipython",
    "version": 3
   },
   "file_extension": ".py",
   "mimetype": "text/x-python",
   "name": "python",
   "nbconvert_exporter": "python",
   "pygments_lexer": "ipython3",
   "version": "3.12.5"
  }
 },
 "nbformat": 4,
 "nbformat_minor": 5
}
